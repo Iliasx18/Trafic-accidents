{
 "cells": [
  {
   "cell_type": "code",
   "execution_count": 1,
   "metadata": {},
   "outputs": [],
   "source": [
    "import pandas as pd\n",
    "import numpy as np\n",
    "import matplotlib.pyplot as plt"
   ]
  },
  {
   "cell_type": "code",
   "execution_count": 2,
   "metadata": {},
   "outputs": [
    {
     "name": "stderr",
     "output_type": "stream",
     "text": [
      "C:\\ProgramData\\Miniconda3\\lib\\site-packages\\IPython\\core\\interactiveshell.py:3049: DtypeWarning: Columns (2) have mixed types. Specify dtype option on import or set low_memory=False.\n",
      "  interactivity=interactivity, compiler=compiler, result=result)\n"
     ]
    }
   ],
   "source": [
    "carac=pd.read_csv('caracteristiques-2018.csv',encoding='ISO-8859-1')\n",
    "usager=pd.read_csv('usagers-2018.csv',encoding='ISO-8859-1')\n",
    "lieu=pd.read_csv('lieux-2018.csv',encoding='ISO-8859-1')\n",
    "vehic=pd.read_csv('vehicules-2018.csv',encoding='ISO-8859-1')"
   ]
  },
  {
   "cell_type": "code",
   "execution_count": 56,
   "metadata": {},
   "outputs": [],
   "source": [
    "result=pd.merge(carac, lieu, on='Num_Acc')\n",
    "df=pd.merge(usager, result, on='Num_Acc')\n",
    "df=df.drop(columns=['Num_Acc'])\n",
    "df['grav']=((df['grav']==2) | (df['grav']==3))"
   ]
  },
  {
   "cell_type": "code",
   "execution_count": 58,
   "metadata": {},
   "outputs": [],
   "source": [
    "df=df[['grav','lum','agg','int','atm','catr','circ','nbv','prof','plan','surf','infra','catu','sexe','an_nais','secu']]"
   ]
  },
  {
   "cell_type": "code",
   "execution_count": 59,
   "metadata": {},
   "outputs": [],
   "source": [
    "df=df.dropna()\n",
    "\n",
    "for c in df.columns:\n",
    "    if c in ['lum','int','atm','circ','prof','plan','infra','catu','surf']:\n",
    "        m=int(max(df[c]))\n",
    "        for i in range(1,m+1):\n",
    "            df[c+str(i)]=(df[c]==i)\n",
    "        df=df.drop(columns=c)\n",
    "    elif c in ['agg','sexe']:\n",
    "        df[c]=(df[c]==2)\n",
    "    elif c=='catr':\n",
    "        for i in range(1,7):\n",
    "            df[c+str(i)]=(df[c]==i)\n",
    "        df=df.drop(columns=c)\n",
    "    elif c=='an_nais':\n",
    "        df['age']=(2018-df[c])/(2018-min(df[c]))\n",
    "        df=df.drop(columns=c) \n",
    "    elif c=='secu':\n",
    "        #df['secu1']=df['secu'].apply(lambda x:str(x)[0])\n",
    "        #df['secu2']=df['secu'].apply(lambda x:str(x)[1])\n",
    "        #df=df.drop(columns=c)\n",
    "        df[c]=df[c].astype(int)\n",
    "        df['secu1']=df[c].apply(lambda x:int(str(x)[-1])==1)\n",
    "        df['secu2']=df[c].apply(lambda x:int(str(x)[-1])==2)\n",
    "        df=df.drop(columns=c)"
   ]
  },
  {
   "cell_type": "code",
   "execution_count": 60,
   "metadata": {},
   "outputs": [],
   "source": [
    "corr=df.corr().loc['grav']"
   ]
  },
  {
   "cell_type": "code",
   "execution_count": 61,
   "metadata": {},
   "outputs": [],
   "source": [
    "importances=abs(corr).sort_values(ascending=False)\n",
    "features=list(importances.index)[1:]"
   ]
  },
  {
   "cell_type": "code",
   "execution_count": 80,
   "metadata": {},
   "outputs": [],
   "source": [
    "from sklearn.model_selection import train_test_split\n",
    "\n",
    "train, test = train_test_split(df, test_size=0.3,random_state=42)\n",
    "\n",
    "#undersampling\n",
    "X_train_1=train.loc[train['grav']==1,features]\n",
    "y_train_1=train.loc[train['grav']==1,'grav']\n",
    "X_train_2=train.loc[train['grav']==0,features].head(n=len(X_train_1))\n",
    "y_train_2=train.loc[train['grav']==0,'grav'].head(n=len(X_train_1))\n",
    "\n",
    "X_train=pd.concat([X_train_1,X_train_2],axis=0)\n",
    "y_train=pd.concat([y_train_1,y_train_2],axis=0)\n",
    "\n",
    "X_test=test[features]\n",
    "y_test=test['grav']"
   ]
  },
  {
   "cell_type": "code",
   "execution_count": 81,
   "metadata": {},
   "outputs": [
    {
     "data": {
      "text/plain": [
       "GradientBoostingClassifier(ccp_alpha=0.0, criterion='friedman_mse', init=None,\n",
       "                           learning_rate=0.1, loss='deviance', max_depth=3,\n",
       "                           max_features=None, max_leaf_nodes=None,\n",
       "                           min_impurity_decrease=0.0, min_impurity_split=None,\n",
       "                           min_samples_leaf=1, min_samples_split=2,\n",
       "                           min_weight_fraction_leaf=0.0, n_estimators=100,\n",
       "                           n_iter_no_change=None, presort='deprecated',\n",
       "                           random_state=None, subsample=1.0, tol=0.0001,\n",
       "                           validation_fraction=0.1, verbose=0,\n",
       "                           warm_start=False)"
      ]
     },
     "execution_count": 81,
     "metadata": {},
     "output_type": "execute_result"
    }
   ],
   "source": [
    "from sklearn.linear_model import LogisticRegression\n",
    "from sklearn.ensemble import GradientBoostingClassifier\n",
    "\n",
    "model=GradientBoostingClassifier()\n",
    "#model=LogisticRegression(max_iter=300)\n",
    "model.fit(X_train,y_train)"
   ]
  },
  {
   "cell_type": "code",
   "execution_count": 82,
   "metadata": {},
   "outputs": [
    {
     "name": "stdout",
     "output_type": "stream",
     "text": [
      "Train accuracy :  0.6956547869463309\n",
      "Test accuracy :  0.7100634487189784\n",
      "(0.6288224336640217, 0.6862270939440835, 0.6330862137861681, None)\n"
     ]
    }
   ],
   "source": [
    "y_pred=model.predict(X_train)\n",
    "print(\"Train accuracy : \",np.mean(y_pred==y_train))\n",
    "\n",
    "y_pred=model.predict(X_test)\n",
    "print(\"Test accuracy : \",np.mean(y_pred==y_test))\n",
    "\n",
    "from sklearn.metrics import precision_recall_fscore_support\n",
    "\n",
    "print(precision_recall_fscore_support(y_test, y_pred, average='macro'))"
   ]
  },
  {
   "cell_type": "code",
   "execution_count": 83,
   "metadata": {},
   "outputs": [
    {
     "data": {
      "text/plain": [
       "0.3472545712526437"
      ]
     },
     "execution_count": 83,
     "metadata": {},
     "output_type": "execute_result"
    }
   ],
   "source": [
    "y_pred.mean()"
   ]
  },
  {
   "cell_type": "code",
   "execution_count": 85,
   "metadata": {},
   "outputs": [
    {
     "data": {
      "image/png": "[encoded data removed]",
      "text/plain": [
       "<Figure size 432x288 with 1 Axes>"
      ]
     },
     "metadata": {
      "needs_background": "light"
     },
     "output_type": "display_data"
    }
   ],
   "source": [
    "plt.bar(features,model.feature_importances_)\n",
    "plt.xticks(rotation=45)\n",
    "plt.show()"
   ]
  },
  {
   "cell_type": "code",
   "execution_count": 78,
   "metadata": {},
   "outputs": [],
   "source": [
    "importances=pd.Series(model.feature_importances_,features)"
   ]
  },
  {
   "cell_type": "code",
   "execution_count": 79,
   "metadata": {},
   "outputs": [],
   "source": [
    "features=list(importances.sort_values(ascending=False)[:20].index)"
   ]
  },
  {
   "cell_type": "code",
   "execution_count": 31,
   "metadata": {},
   "outputs": [
    {
     "name": "stderr",
     "output_type": "stream",
     "text": [
      "Using TensorFlow backend.\n"
     ]
    }
   ],
   "source": [
    "import tensorflow as tf\n",
    "#Dependencies\n",
    "import keras\n",
    "from keras.models import Sequential\n",
    "from keras.layers import Dense\n",
    "# Neural network\n",
    "model = Sequential()\n",
    "model.add(Dense(5, input_dim=len(features), activation='relu'))\n",
    "model.add(Dense(3, input_dim=len(features), activation='relu'))\n",
    "model.add(Dense(1, activation='sigmoid'))\n",
    "# Compile model\n",
    "model.compile(loss='binary_crossentropy', optimizer='adam', metrics=['accuracy'])"
   ]
  },
  {
   "cell_type": "code",
   "execution_count": 32,
   "metadata": {},
   "outputs": [],
   "source": [
    "X=df[features]\n",
    "y=df['grav']\n",
    "\n",
    "from sklearn.model_selection import train_test_split\n",
    "\n",
    "X_train, X_test, y_train, y_test = train_test_split(X, y, test_size=0.33, random_state=42)"
   ]
  },
  {
   "cell_type": "code",
   "execution_count": 33,
   "metadata": {},
   "outputs": [
    {
     "name": "stdout",
     "output_type": "stream",
     "text": [
      "Epoch 1/100\n",
      "83419/83419 [==============================] - 1s 15us/step - loss: 0.4722 - accuracy: 0.7913\n",
      "Epoch 2/100\n",
      "83419/83419 [==============================] - ETA: 0s - loss: 0.4335 - accuracy: 0.81 - 1s 12us/step - loss: 0.4337 - accuracy: 0.8146\n",
      "Epoch 3/100\n",
      "83419/83419 [==============================] - ETA: 0s - loss: 0.4322 - accuracy: 0.81 - 1s 12us/step - loss: 0.4320 - accuracy: 0.8154\n",
      "Epoch 4/100\n",
      "83419/83419 [==============================] - 1s 12us/step - loss: 0.4312 - accuracy: 0.8158 0s - loss: 0.4295 - accura\n",
      "Epoch 5/100\n",
      "83419/83419 [==============================] - 1s 12us/step - loss: 0.4308 - accuracy: 0.8158\n",
      "Epoch 6/100\n",
      "83419/83419 [==============================] - 1s 12us/step - loss: 0.4306 - accuracy: 0.8158\n",
      "Epoch 7/100\n",
      "83419/83419 [==============================] - 1s 12us/step - loss: 0.4305 - accuracy: 0.8154 0s - loss: 0.4267 - accuracy: 0.81 - ETA: 0s\n",
      "Epoch 8/100\n",
      "83419/83419 [==============================] - 1s 12us/step - loss: 0.4302 - accuracy: 0.8160\n",
      "Epoch 9/100\n",
      "83419/83419 [==============================] - 1s 13us/step - loss: 0.4300 - accuracy: 0.8159 0s - loss: 0.4\n",
      "Epoch 10/100\n",
      "83419/83419 [==============================] - 1s 12us/step - loss: 0.4298 - accuracy: 0.8160\n",
      "Epoch 11/100\n",
      "83419/83419 [==============================] - 1s 12us/step - loss: 0.4297 - accuracy: 0.8158\n",
      "Epoch 12/100\n",
      "83419/83419 [==============================] - 1s 13us/step - loss: 0.4297 - accuracy: 0.8157\n",
      "Epoch 13/100\n",
      "83419/83419 [==============================] - 1s 13us/step - loss: 0.4295 - accuracy: 0.8157\n",
      "Epoch 14/100\n",
      "83419/83419 [==============================] - 1s 13us/step - loss: 0.4294 - accuracy: 0.8159 \n",
      "Epoch 15/100\n",
      "83419/83419 [==============================] - 1s 13us/step - loss: 0.4291 - accuracy: 0.8158\n",
      "Epoch 16/100\n",
      "83419/83419 [==============================] - 1s 13us/step - loss: 0.4292 - accuracy: 0.8158\n",
      "Epoch 17/100\n",
      "83419/83419 [==============================] - 1s 13us/step - loss: 0.4290 - accuracy: 0.8157 0s - l\n",
      "Epoch 18/100\n",
      "83419/83419 [==============================] - 1s 16us/step - loss: 0.4290 - accuracy: 0.8161\n",
      "Epoch 19/100\n",
      "83419/83419 [==============================] - 1s 13us/step - loss: 0.4288 - accuracy: 0.8159\n",
      "Epoch 20/100\n",
      "83419/83419 [==============================] - 1s 12us/step - loss: 0.4288 - accuracy: 0.8161\n",
      "Epoch 21/100\n",
      "83419/83419 [==============================] - 1s 12us/step - loss: 0.4286 - accuracy: 0.8159\n",
      "Epoch 22/100\n",
      "83419/83419 [==============================] - 1s 13us/step - loss: 0.4283 - accuracy: 0.8158 0s - loss: 0.4283 - accuracy: 0.81\n",
      "Epoch 23/100\n",
      "83419/83419 [==============================] - 1s 14us/step - loss: 0.4281 - accuracy: 0.8159\n",
      "Epoch 24/100\n",
      "83419/83419 [==============================] - 1s 14us/step - loss: 0.4280 - accuracy: 0.8163 0s -\n",
      "Epoch 25/100\n",
      "83419/83419 [==============================] - 1s 12us/step - loss: 0.4280 - accuracy: 0.8161\n",
      "Epoch 26/100\n",
      "83419/83419 [==============================] - 1s 11us/step - loss: 0.4279 - accuracy: 0.8159\n",
      "Epoch 27/100\n",
      "83419/83419 [==============================] - 1s 12us/step - loss: 0.4278 - accuracy: 0.8160 0s - loss: 0.4275 - accuracy: 0.81\n",
      "Epoch 28/100\n",
      "83419/83419 [==============================] - 1s 11us/step - loss: 0.4277 - accuracy: 0.8159\n",
      "Epoch 29/100\n",
      "83419/83419 [==============================] - 1s 13us/step - loss: 0.4277 - accuracy: 0.8158\n",
      "Epoch 30/100\n",
      "83419/83419 [==============================] - 1s 12us/step - loss: 0.4273 - accuracy: 0.8162 0s - loss: 0.4274 - accuracy: \n",
      "Epoch 31/100\n",
      "83419/83419 [==============================] - 1s 12us/step - loss: 0.4274 - accuracy: 0.8161 0s - loss: 0.4272 - accuracy: 0.\n",
      "Epoch 32/100\n",
      "83419/83419 [==============================] - 1s 12us/step - loss: 0.4273 - accuracy: 0.8165\n",
      "Epoch 33/100\n",
      "83419/83419 [==============================] - 1s 12us/step - loss: 0.4272 - accuracy: 0.8157\n",
      "Epoch 34/100\n",
      "83419/83419 [==============================] - ETA: 0s - loss: 0.4274 - accuracy: 0.81 - 1s 13us/step - loss: 0.4271 - accuracy: 0.8161\n",
      "Epoch 35/100\n",
      "83419/83419 [==============================] - 1s 13us/step - loss: 0.4271 - accuracy: 0.8163\n",
      "Epoch 36/100\n",
      "83419/83419 [==============================] - 1s 12us/step - loss: 0.4270 - accuracy: 0.8159\n",
      "Epoch 37/100\n",
      "83419/83419 [==============================] - 1s 12us/step - loss: 0.4270 - accuracy: 0.8159\n",
      "Epoch 38/100\n",
      "83419/83419 [==============================] - 1s 12us/step - loss: 0.4269 - accuracy: 0.8160\n",
      "Epoch 39/100\n",
      "83419/83419 [==============================] - 1s 14us/step - loss: 0.4268 - accuracy: 0.8161 0s -\n",
      "Epoch 40/100\n",
      "83419/83419 [==============================] - 1s 15us/step - loss: 0.4267 - accuracy: 0.8162\n",
      "Epoch 41/100\n",
      "83419/83419 [==============================] - 1s 12us/step - loss: 0.4268 - accuracy: 0.8164\n",
      "Epoch 42/100\n",
      "83419/83419 [==============================] - 1s 12us/step - loss: 0.4266 - accuracy: 0.8162\n",
      "Epoch 43/100\n",
      "83419/83419 [==============================] - 1s 11us/step - loss: 0.4267 - accuracy: 0.8164\n",
      "Epoch 44/100\n",
      "83419/83419 [==============================] - 1s 12us/step - loss: 0.4266 - accuracy: 0.8166\n",
      "Epoch 45/100\n",
      "83419/83419 [==============================] - 1s 12us/step - loss: 0.4266 - accuracy: 0.8162\n",
      "Epoch 46/100\n",
      "83419/83419 [==============================] - 1s 12us/step - loss: 0.4265 - accuracy: 0.8165\n",
      "Epoch 47/100\n",
      "83419/83419 [==============================] - 1s 11us/step - loss: 0.4266 - accuracy: 0.8169\n",
      "Epoch 48/100\n",
      "83419/83419 [==============================] - 1s 12us/step - loss: 0.4264 - accuracy: 0.8166\n",
      "Epoch 49/100\n",
      "83419/83419 [==============================] - 1s 13us/step - loss: 0.4264 - accuracy: 0.8163 0s - loss: 0.4282 - \n",
      "Epoch 50/100\n",
      "83419/83419 [==============================] - 1s 13us/step - loss: 0.4266 - accuracy: 0.8162\n",
      "Epoch 51/100\n",
      "83419/83419 [==============================] - 1s 11us/step - loss: 0.4263 - accuracy: 0.8167\n",
      "Epoch 52/100\n",
      "83419/83419 [==============================] - 1s 12us/step - loss: 0.4265 - accuracy: 0.8164 0s - loss: 0.426\n",
      "Epoch 53/100\n",
      "83419/83419 [==============================] - 1s 12us/step - loss: 0.4264 - accuracy: 0.8165 0s\n",
      "Epoch 54/100\n",
      "83419/83419 [==============================] - 1s 13us/step - loss: 0.4264 - accuracy: 0.8165 0s - loss: 0.4265 - accuracy: 0.\n",
      "Epoch 55/100\n",
      "83419/83419 [==============================] - 1s 11us/step - loss: 0.4264 - accuracy: 0.8164\n",
      "Epoch 56/100\n",
      "83419/83419 [==============================] - 1s 14us/step - loss: 0.4264 - accuracy: 0.8166\n",
      "Epoch 57/100\n",
      "83419/83419 [==============================] - 1s 15us/step - loss: 0.4263 - accuracy: 0.8165\n",
      "Epoch 58/100\n",
      "83419/83419 [==============================] - 1s 15us/step - loss: 0.4263 - accuracy: 0.8165\n",
      "Epoch 59/100\n",
      "83419/83419 [==============================] - 1s 13us/step - loss: 0.4262 - accuracy: 0.8165 0s - loss: 0.4272 - ac\n",
      "Epoch 60/100\n",
      "83419/83419 [==============================] - 1s 13us/step - loss: 0.4262 - accuracy: 0.8166 0s - loss: 0 - ETA: 0s - loss: 0.4260 - accuracy: 0.\n",
      "Epoch 61/100\n",
      "83419/83419 [==============================] - 1s 12us/step - loss: 0.4262 - accuracy: 0.8169\n",
      "Epoch 62/100\n",
      "83419/83419 [==============================] - 1s 12us/step - loss: 0.4261 - accuracy: 0.8164\n",
      "Epoch 63/100\n",
      "83419/83419 [==============================] - 1s 14us/step - loss: 0.4262 - accuracy: 0.8164\n",
      "Epoch 64/100\n",
      "83419/83419 [==============================] - 1s 12us/step - loss: 0.4262 - accuracy: 0.8166 0s - loss: 0.4275 - \n",
      "Epoch 65/100\n",
      "83419/83419 [==============================] - 1s 13us/step - loss: 0.4261 - accuracy: 0.8166\n",
      "Epoch 66/100\n",
      "83419/83419 [==============================] - 1s 13us/step - loss: 0.4259 - accuracy: 0.8166\n",
      "Epoch 67/100\n",
      "83419/83419 [==============================] - 1s 17us/step - loss: 0.4262 - accuracy: 0.8166 0s - loss: 0.4244 \n",
      "Epoch 68/100\n",
      "83419/83419 [==============================] - 1s 14us/step - loss: 0.4260 - accuracy: 0.8165 0s - l\n",
      "Epoch 69/100\n",
      "83419/83419 [==============================] - 1s 15us/step - loss: 0.4260 - accuracy: 0.8167\n",
      "Epoch 70/100\n",
      "83419/83419 [==============================] - 1s 11us/step - loss: 0.4260 - accuracy: 0.8167 0s - loss: 0.417 - ETA: 0s - loss: 0.4260 - ac\n",
      "Epoch 71/100\n"
     ]
    },
    {
     "name": "stdout",
     "output_type": "stream",
     "text": [
      "83419/83419 [==============================] - 1s 11us/step - loss: 0.4261 - accuracy: 0.8165 0s -\n",
      "Epoch 72/100\n",
      "83419/83419 [==============================] - 1s 11us/step - loss: 0.4260 - accuracy: 0.8169 0s -\n",
      "Epoch 73/100\n",
      "83419/83419 [==============================] - 1s 11us/step - loss: 0.4260 - accuracy: 0.8165 0s - loss: 0.4263 - accuracy\n",
      "Epoch 74/100\n",
      "83419/83419 [==============================] - 1s 11us/step - loss: 0.4259 - accuracy: 0.8164 \n",
      "Epoch 75/100\n",
      "83419/83419 [==============================] - 1s 11us/step - loss: 0.4260 - accuracy: 0.8166\n",
      "Epoch 76/100\n",
      "83419/83419 [==============================] - 1s 11us/step - loss: 0.4259 - accuracy: 0.8166 0s - loss: 0 - ETA: 0s - loss: 0.4255 - accuracy\n",
      "Epoch 77/100\n",
      "83419/83419 [==============================] - 1s 11us/step - loss: 0.4259 - accuracy: 0.8164\n",
      "Epoch 78/100\n",
      "83419/83419 [==============================] - 1s 12us/step - loss: 0.4260 - accuracy: 0.8167\n",
      "Epoch 79/100\n",
      "83419/83419 [==============================] - 1s 14us/step - loss: 0.4259 - accuracy: 0.8164 0s - loss: 0.4277 -  - ETA: 0s - loss: 0.4257 - accuracy: 0.81\n",
      "Epoch 80/100\n",
      "83419/83419 [==============================] - 1s 12us/step - loss: 0.4259 - accuracy: 0.8174 0s -\n",
      "Epoch 81/100\n",
      "83419/83419 [==============================] - 1s 11us/step - loss: 0.4260 - accuracy: 0.8168\n",
      "Epoch 82/100\n",
      "83419/83419 [==============================] - 1s 11us/step - loss: 0.4259 - accuracy: 0.8168\n",
      "Epoch 83/100\n",
      "83419/83419 [==============================] - 1s 11us/step - loss: 0.4258 - accuracy: 0.8168\n",
      "Epoch 84/100\n",
      "83419/83419 [==============================] - 1s 11us/step - loss: 0.4257 - accuracy: 0.8164\n",
      "Epoch 85/100\n",
      "83419/83419 [==============================] - 1s 11us/step - loss: 0.4258 - accuracy: 0.8169\n",
      "Epoch 86/100\n",
      "83419/83419 [==============================] - 1s 11us/step - loss: 0.4259 - accuracy: 0.8169\n",
      "Epoch 87/100\n",
      "83419/83419 [==============================] - 1s 11us/step - loss: 0.4258 - accuracy: 0.8164\n",
      "Epoch 88/100\n",
      "83419/83419 [==============================] - 1s 11us/step - loss: 0.4258 - accuracy: 0.8168\n",
      "Epoch 89/100\n",
      "83419/83419 [==============================] - 1s 11us/step - loss: 0.4258 - accuracy: 0.8163\n",
      "Epoch 90/100\n",
      "83419/83419 [==============================] - 1s 11us/step - loss: 0.4256 - accuracy: 0.8169\n",
      "Epoch 91/100\n",
      "83419/83419 [==============================] - 1s 13us/step - loss: 0.4259 - accuracy: 0.8165\n",
      "Epoch 92/100\n",
      "83419/83419 [==============================] - 1s 11us/step - loss: 0.4257 - accuracy: 0.8166\n",
      "Epoch 93/100\n",
      "83419/83419 [==============================] - 1s 11us/step - loss: 0.4257 - accuracy: 0.8166\n",
      "Epoch 94/100\n",
      "83419/83419 [==============================] - 1s 11us/step - loss: 0.4257 - accuracy: 0.8167\n",
      "Epoch 95/100\n",
      "83419/83419 [==============================] - 1s 11us/step - loss: 0.4257 - accuracy: 0.8166\n",
      "Epoch 96/100\n",
      "83419/83419 [==============================] - 1s 14us/step - loss: 0.4257 - accuracy: 0.8172\n",
      "Epoch 97/100\n",
      "83419/83419 [==============================] - 1s 13us/step - loss: 0.4257 - accuracy: 0.8169\n",
      "Epoch 98/100\n",
      "83419/83419 [==============================] - 1s 11us/step - loss: 0.4257 - accuracy: 0.8171 0s - loss: 0\n",
      "Epoch 99/100\n",
      "83419/83419 [==============================] - 1s 11us/step - loss: 0.4256 - accuracy: 0.8170\n",
      "Epoch 100/100\n",
      "83419/83419 [==============================] - 1s 11us/step - loss: 0.4256 - accuracy: 0.8167\n"
     ]
    }
   ],
   "source": [
    "history = model.fit(X_train, y_train, epochs=100, batch_size=64)"
   ]
  },
  {
   "cell_type": "code",
   "execution_count": 84,
   "metadata": {},
   "outputs": [
    {
     "name": "stdout",
     "output_type": "stream",
     "text": [
      "No Skill: ROC AUC=0.500\n",
      "Logistic: ROC AUC=0.748\n"
     ]
    },
    {
     "data": {
      "image/png": "[encoded data removed]",
      "text/plain": [
       "<Figure size 432x288 with 1 Axes>"
      ]
     },
     "metadata": {
      "needs_background": "light"
     },
     "output_type": "display_data"
    }
   ],
   "source": [
    "# roc curve and auc\n",
    "\n",
    "from sklearn.metrics import roc_curve\n",
    "from sklearn.metrics import roc_auc_score\n",
    "\n",
    "ns_probs = [0 for _ in range(len(y_test))]\n",
    "lr_probs = model.predict_proba(X_test)\n",
    "# keep probabilities for the positive outcome only\n",
    "lr_probs = lr_probs[:, 1]\n",
    "# calculate scores\n",
    "ns_auc = roc_auc_score(y_test, ns_probs)\n",
    "lr_auc = roc_auc_score(y_test, lr_probs)\n",
    "# summarize scores\n",
    "print('No Skill: ROC AUC=%.3f' % (ns_auc))\n",
    "print('Logistic: ROC AUC=%.3f' % (lr_auc))\n",
    "# calculate roc curves\n",
    "ns_fpr, ns_tpr, _ = roc_curve(y_test, ns_probs)\n",
    "lr_fpr, lr_tpr, _ = roc_curve(y_test, lr_probs)\n",
    "# plot the roc curve for the model\n",
    "plt.plot(ns_fpr, ns_tpr, linestyle='--', label='No Skill')\n",
    "plt.plot(lr_fpr, lr_tpr, marker='.', label='Logistic')\n",
    "# axis labels\n",
    "plt.xlabel('False Positive Rate')\n",
    "plt.ylabel('True Positive Rate')\n",
    "# show the legend\n",
    "plt.legend()\n",
    "# show the plot\n",
    "plt.show()"
   ]
  },
  {
   "cell_type": "code",
   "execution_count": 86,
   "metadata": {},
   "outputs": [
    {
     "data": {
      "text/plain": [
       "array([[0.83185342, 0.16814658],\n",
       "       [0.64495611, 0.35504389],\n",
       "       [0.56920552, 0.43079448],\n",
       "       ...,\n",
       "       [0.72568575, 0.27431425],\n",
       "       [0.58327866, 0.41672134],\n",
       "       [0.68580549, 0.31419451]])"
      ]
     },
     "execution_count": 86,
     "metadata": {},
     "output_type": "execute_result"
    }
   ],
   "source": [
    "model.predict_proba(X_test)"
   ]
  }
 ],
 "metadata": {
  "kernelspec": {
   "display_name": "Python 3",
   "language": "python",
   "name": "python3"
  },
  "language_info": {
   "codemirror_mode": {
    "name": "ipython",
    "version": 3
   },
   "file_extension": ".py",
   "mimetype": "text/x-python",
   "name": "python",
   "nbconvert_exporter": "python",
   "pygments_lexer": "ipython3",
   "version": "3.7.3"
  }
 },
 "nbformat": 4,
 "nbformat_minor": 2
}
