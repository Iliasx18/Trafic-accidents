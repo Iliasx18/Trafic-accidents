{
 "cells": [
  {
   "cell_type": "markdown",
   "metadata": {},
   "source": [
    "# Trafic accidents (Ilias SAGHIR)\n",
    "\n",
    "**Goal** : predict whether a car accident is serious or not based on attributes such as : time and space circumstances, road and vehicle characteristics, usage of safety gear, driver and passenger info...\n",
    "\n",
    "**Data** : For this, we will use the 2018 public data provided by the French ministry of transport which can be found on [this page](https://www.data.gouv.fr/fr/datasets/base-de-donnees-accidents-corporels-de-la-circulation/#_)."
   ]
  },
  {
   "cell_type": "code",
   "execution_count": 2,
   "metadata": {},
   "outputs": [],
   "source": [
    "import pandas as pd\n",
    "import numpy as np\n",
    "import matplotlib.pyplot as plt"
   ]
  },
  {
   "cell_type": "code",
   "execution_count": 29,
   "metadata": {},
   "outputs": [],
   "source": [
    "charac=pd.read_csv('caracteristiques-2018.csv',encoding='ISO-8859-1')\n",
    "user=pd.read_csv('usagers-2018.csv',encoding='ISO-8859-1')\n",
    "loc=pd.read_csv('lieux-2018.csv',encoding='ISO-8859-1')"
   ]
  },
  {
   "cell_type": "markdown",
   "metadata": {},
   "source": [
    "**charac** : accident circumstances : time, place, weather, lighting...\n",
    "\n",
    "**user** : info on the people involved\n",
    "\n",
    "**loc** : info on the place of accident : road type, circulation..."
   ]
  },
  {
   "cell_type": "code",
   "execution_count": 30,
   "metadata": {},
   "outputs": [
    {
     "name": "stdout",
     "output_type": "stream",
     "text": [
      "25561 130169\n"
     ]
    }
   ],
   "source": [
    "#Merging tables by accident/user/location correspondences\n",
    "\n",
    "df=pd.merge(user, pd.merge(charac, loc, on='Num_Acc'), on='Num_Acc').drop(columns=['Num_Acc'])\n",
    "\n",
    "#Dataset provides 4 categories for accident gravity, we will simplify by only considering 2 categories (serious vs non serious)\n",
    "\n",
    "df['grav']=((df['grav']==2) | (df['grav']==3))\n",
    "print(df['grav'].sum(),len(df))"
   ]
  },
  {
   "cell_type": "markdown",
   "metadata": {},
   "source": [
    "There is a noticeable class imbalance which we should account for in training and in the evaluation of our model."
   ]
  },
  {
   "cell_type": "markdown",
   "metadata": {},
   "source": [
    "We choose to eliminate some attributes and only keep possibly relevent ones."
   ]
  },
  {
   "cell_type": "code",
   "execution_count": 31,
   "metadata": {},
   "outputs": [],
   "source": [
    "df=df[['grav','lum','agg','int','atm','catr','circ','nbv','prof','plan','surf','infra','catu','sexe','an_nais','secu']]"
   ]
  },
  {
   "cell_type": "markdown",
   "metadata": {},
   "source": [
    "This next preprocessing step encodes the categorical variables into dummy variables (0-1), this helps the model further discriminate important values for the variables, and enables us to use a logistic regression."
   ]
  },
  {
   "cell_type": "code",
   "execution_count": 32,
   "metadata": {},
   "outputs": [],
   "source": [
    "df=df.dropna()\n",
    "\n",
    "for c in df.columns:\n",
    "    if c in ['lum','int','atm','circ','prof','plan','infra','catu','surf']:\n",
    "        m=int(max(df[c]))\n",
    "        for i in range(1,m+1):\n",
    "            df[c+str(i)]=(df[c]==i)\n",
    "        df=df.drop(columns=c)\n",
    "    elif c in ['agg','sexe']:\n",
    "        df[c]=(df[c]==2)\n",
    "    elif c=='catr':\n",
    "        for i in range(1,7):\n",
    "            df[c+str(i)]=(df[c]==i)\n",
    "        df=df.drop(columns=c)\n",
    "    elif c=='an_nais':\n",
    "        df['age']=(2018-df[c])/(2018-min(df[c]))\n",
    "        df=df.drop(columns=c) \n",
    "    elif c=='secu':\n",
    "        df[c]=df[c].astype(int)\n",
    "        df['secu1']=df[c].apply(lambda x:int(str(x)[-1])==1)\n",
    "        df['secu2']=df[c].apply(lambda x:int(str(x)[-1])==2)\n",
    "        df=df.drop(columns=c)"
   ]
  },
  {
   "cell_type": "code",
   "execution_count": 33,
   "metadata": {},
   "outputs": [
    {
     "data": {
      "text/html": [
       "<div>\n",
       "<style scoped>\n",
       "    .dataframe tbody tr th:only-of-type {\n",
       "        vertical-align: middle;\n",
       "    }\n",
       "\n",
       "    .dataframe tbody tr th {\n",
       "        vertical-align: top;\n",
       "    }\n",
       "\n",
       "    .dataframe thead th {\n",
       "        text-align: right;\n",
       "    }\n",
       "</style>\n",
       "<table border=\"1\" class=\"dataframe\">\n",
       "  <thead>\n",
       "    <tr style=\"text-align: right;\">\n",
       "      <th></th>\n",
       "      <th>grav</th>\n",
       "      <th>agg</th>\n",
       "      <th>nbv</th>\n",
       "      <th>sexe</th>\n",
       "      <th>lum1</th>\n",
       "      <th>lum2</th>\n",
       "      <th>lum3</th>\n",
       "      <th>lum4</th>\n",
       "      <th>lum5</th>\n",
       "      <th>int1</th>\n",
       "      <th>...</th>\n",
       "      <th>infra4</th>\n",
       "      <th>infra5</th>\n",
       "      <th>infra6</th>\n",
       "      <th>infra7</th>\n",
       "      <th>catu1</th>\n",
       "      <th>catu2</th>\n",
       "      <th>catu3</th>\n",
       "      <th>age</th>\n",
       "      <th>secu1</th>\n",
       "      <th>secu2</th>\n",
       "    </tr>\n",
       "  </thead>\n",
       "  <tbody>\n",
       "    <tr>\n",
       "      <td>0</td>\n",
       "      <td>True</td>\n",
       "      <td>False</td>\n",
       "      <td>2.0</td>\n",
       "      <td>False</td>\n",
       "      <td>True</td>\n",
       "      <td>False</td>\n",
       "      <td>False</td>\n",
       "      <td>False</td>\n",
       "      <td>False</td>\n",
       "      <td>False</td>\n",
       "      <td>...</td>\n",
       "      <td>False</td>\n",
       "      <td>False</td>\n",
       "      <td>False</td>\n",
       "      <td>False</td>\n",
       "      <td>True</td>\n",
       "      <td>False</td>\n",
       "      <td>False</td>\n",
       "      <td>0.841121</td>\n",
       "      <td>True</td>\n",
       "      <td>False</td>\n",
       "    </tr>\n",
       "    <tr>\n",
       "      <td>1</td>\n",
       "      <td>False</td>\n",
       "      <td>False</td>\n",
       "      <td>2.0</td>\n",
       "      <td>False</td>\n",
       "      <td>True</td>\n",
       "      <td>False</td>\n",
       "      <td>False</td>\n",
       "      <td>False</td>\n",
       "      <td>False</td>\n",
       "      <td>False</td>\n",
       "      <td>...</td>\n",
       "      <td>False</td>\n",
       "      <td>False</td>\n",
       "      <td>False</td>\n",
       "      <td>False</td>\n",
       "      <td>True</td>\n",
       "      <td>False</td>\n",
       "      <td>False</td>\n",
       "      <td>0.542056</td>\n",
       "      <td>True</td>\n",
       "      <td>False</td>\n",
       "    </tr>\n",
       "    <tr>\n",
       "      <td>2</td>\n",
       "      <td>False</td>\n",
       "      <td>True</td>\n",
       "      <td>2.0</td>\n",
       "      <td>False</td>\n",
       "      <td>True</td>\n",
       "      <td>False</td>\n",
       "      <td>False</td>\n",
       "      <td>False</td>\n",
       "      <td>False</td>\n",
       "      <td>False</td>\n",
       "      <td>...</td>\n",
       "      <td>False</td>\n",
       "      <td>False</td>\n",
       "      <td>False</td>\n",
       "      <td>False</td>\n",
       "      <td>True</td>\n",
       "      <td>False</td>\n",
       "      <td>False</td>\n",
       "      <td>0.663551</td>\n",
       "      <td>True</td>\n",
       "      <td>False</td>\n",
       "    </tr>\n",
       "    <tr>\n",
       "      <td>3</td>\n",
       "      <td>False</td>\n",
       "      <td>True</td>\n",
       "      <td>2.0</td>\n",
       "      <td>False</td>\n",
       "      <td>True</td>\n",
       "      <td>False</td>\n",
       "      <td>False</td>\n",
       "      <td>False</td>\n",
       "      <td>False</td>\n",
       "      <td>False</td>\n",
       "      <td>...</td>\n",
       "      <td>False</td>\n",
       "      <td>False</td>\n",
       "      <td>False</td>\n",
       "      <td>False</td>\n",
       "      <td>False</td>\n",
       "      <td>False</td>\n",
       "      <td>True</td>\n",
       "      <td>0.551402</td>\n",
       "      <td>False</td>\n",
       "      <td>True</td>\n",
       "    </tr>\n",
       "    <tr>\n",
       "      <td>4</td>\n",
       "      <td>True</td>\n",
       "      <td>True</td>\n",
       "      <td>2.0</td>\n",
       "      <td>False</td>\n",
       "      <td>True</td>\n",
       "      <td>False</td>\n",
       "      <td>False</td>\n",
       "      <td>False</td>\n",
       "      <td>False</td>\n",
       "      <td>False</td>\n",
       "      <td>...</td>\n",
       "      <td>False</td>\n",
       "      <td>False</td>\n",
       "      <td>False</td>\n",
       "      <td>False</td>\n",
       "      <td>True</td>\n",
       "      <td>False</td>\n",
       "      <td>False</td>\n",
       "      <td>0.289720</td>\n",
       "      <td>True</td>\n",
       "      <td>False</td>\n",
       "    </tr>\n",
       "    <tr>\n",
       "      <td>...</td>\n",
       "      <td>...</td>\n",
       "      <td>...</td>\n",
       "      <td>...</td>\n",
       "      <td>...</td>\n",
       "      <td>...</td>\n",
       "      <td>...</td>\n",
       "      <td>...</td>\n",
       "      <td>...</td>\n",
       "      <td>...</td>\n",
       "      <td>...</td>\n",
       "      <td>...</td>\n",
       "      <td>...</td>\n",
       "      <td>...</td>\n",
       "      <td>...</td>\n",
       "      <td>...</td>\n",
       "      <td>...</td>\n",
       "      <td>...</td>\n",
       "      <td>...</td>\n",
       "      <td>...</td>\n",
       "      <td>...</td>\n",
       "      <td>...</td>\n",
       "    </tr>\n",
       "    <tr>\n",
       "      <td>130164</td>\n",
       "      <td>False</td>\n",
       "      <td>True</td>\n",
       "      <td>2.0</td>\n",
       "      <td>False</td>\n",
       "      <td>False</td>\n",
       "      <td>False</td>\n",
       "      <td>False</td>\n",
       "      <td>False</td>\n",
       "      <td>True</td>\n",
       "      <td>True</td>\n",
       "      <td>...</td>\n",
       "      <td>False</td>\n",
       "      <td>False</td>\n",
       "      <td>False</td>\n",
       "      <td>False</td>\n",
       "      <td>False</td>\n",
       "      <td>False</td>\n",
       "      <td>True</td>\n",
       "      <td>0.401869</td>\n",
       "      <td>False</td>\n",
       "      <td>False</td>\n",
       "    </tr>\n",
       "    <tr>\n",
       "      <td>130165</td>\n",
       "      <td>False</td>\n",
       "      <td>True</td>\n",
       "      <td>2.0</td>\n",
       "      <td>True</td>\n",
       "      <td>False</td>\n",
       "      <td>False</td>\n",
       "      <td>False</td>\n",
       "      <td>False</td>\n",
       "      <td>True</td>\n",
       "      <td>True</td>\n",
       "      <td>...</td>\n",
       "      <td>False</td>\n",
       "      <td>False</td>\n",
       "      <td>False</td>\n",
       "      <td>False</td>\n",
       "      <td>True</td>\n",
       "      <td>False</td>\n",
       "      <td>False</td>\n",
       "      <td>0.233645</td>\n",
       "      <td>True</td>\n",
       "      <td>False</td>\n",
       "    </tr>\n",
       "    <tr>\n",
       "      <td>130166</td>\n",
       "      <td>False</td>\n",
       "      <td>True</td>\n",
       "      <td>2.0</td>\n",
       "      <td>False</td>\n",
       "      <td>False</td>\n",
       "      <td>False</td>\n",
       "      <td>False</td>\n",
       "      <td>False</td>\n",
       "      <td>True</td>\n",
       "      <td>True</td>\n",
       "      <td>...</td>\n",
       "      <td>False</td>\n",
       "      <td>False</td>\n",
       "      <td>False</td>\n",
       "      <td>False</td>\n",
       "      <td>True</td>\n",
       "      <td>False</td>\n",
       "      <td>False</td>\n",
       "      <td>0.411215</td>\n",
       "      <td>True</td>\n",
       "      <td>False</td>\n",
       "    </tr>\n",
       "    <tr>\n",
       "      <td>130167</td>\n",
       "      <td>False</td>\n",
       "      <td>True</td>\n",
       "      <td>2.0</td>\n",
       "      <td>False</td>\n",
       "      <td>True</td>\n",
       "      <td>False</td>\n",
       "      <td>False</td>\n",
       "      <td>False</td>\n",
       "      <td>False</td>\n",
       "      <td>True</td>\n",
       "      <td>...</td>\n",
       "      <td>False</td>\n",
       "      <td>False</td>\n",
       "      <td>False</td>\n",
       "      <td>False</td>\n",
       "      <td>True</td>\n",
       "      <td>False</td>\n",
       "      <td>False</td>\n",
       "      <td>0.420561</td>\n",
       "      <td>True</td>\n",
       "      <td>False</td>\n",
       "    </tr>\n",
       "    <tr>\n",
       "      <td>130168</td>\n",
       "      <td>False</td>\n",
       "      <td>True</td>\n",
       "      <td>2.0</td>\n",
       "      <td>True</td>\n",
       "      <td>True</td>\n",
       "      <td>False</td>\n",
       "      <td>False</td>\n",
       "      <td>False</td>\n",
       "      <td>False</td>\n",
       "      <td>True</td>\n",
       "      <td>...</td>\n",
       "      <td>False</td>\n",
       "      <td>False</td>\n",
       "      <td>False</td>\n",
       "      <td>False</td>\n",
       "      <td>True</td>\n",
       "      <td>False</td>\n",
       "      <td>False</td>\n",
       "      <td>0.261682</td>\n",
       "      <td>True</td>\n",
       "      <td>False</td>\n",
       "    </tr>\n",
       "  </tbody>\n",
       "</table>\n",
       "<p>124507 rows × 67 columns</p>\n",
       "</div>"
      ],
      "text/plain": [
       "         grav    agg  nbv   sexe   lum1   lum2   lum3   lum4   lum5   int1  \\\n",
       "0        True  False  2.0  False   True  False  False  False  False  False   \n",
       "1       False  False  2.0  False   True  False  False  False  False  False   \n",
       "2       False   True  2.0  False   True  False  False  False  False  False   \n",
       "3       False   True  2.0  False   True  False  False  False  False  False   \n",
       "4        True   True  2.0  False   True  False  False  False  False  False   \n",
       "...       ...    ...  ...    ...    ...    ...    ...    ...    ...    ...   \n",
       "130164  False   True  2.0  False  False  False  False  False   True   True   \n",
       "130165  False   True  2.0   True  False  False  False  False   True   True   \n",
       "130166  False   True  2.0  False  False  False  False  False   True   True   \n",
       "130167  False   True  2.0  False   True  False  False  False  False   True   \n",
       "130168  False   True  2.0   True   True  False  False  False  False   True   \n",
       "\n",
       "        ...  infra4  infra5  infra6  infra7  catu1  catu2  catu3       age  \\\n",
       "0       ...   False   False   False   False   True  False  False  0.841121   \n",
       "1       ...   False   False   False   False   True  False  False  0.542056   \n",
       "2       ...   False   False   False   False   True  False  False  0.663551   \n",
       "3       ...   False   False   False   False  False  False   True  0.551402   \n",
       "4       ...   False   False   False   False   True  False  False  0.289720   \n",
       "...     ...     ...     ...     ...     ...    ...    ...    ...       ...   \n",
       "130164  ...   False   False   False   False  False  False   True  0.401869   \n",
       "130165  ...   False   False   False   False   True  False  False  0.233645   \n",
       "130166  ...   False   False   False   False   True  False  False  0.411215   \n",
       "130167  ...   False   False   False   False   True  False  False  0.420561   \n",
       "130168  ...   False   False   False   False   True  False  False  0.261682   \n",
       "\n",
       "        secu1  secu2  \n",
       "0        True  False  \n",
       "1        True  False  \n",
       "2        True  False  \n",
       "3       False   True  \n",
       "4        True  False  \n",
       "...       ...    ...  \n",
       "130164  False  False  \n",
       "130165   True  False  \n",
       "130166   True  False  \n",
       "130167   True  False  \n",
       "130168   True  False  \n",
       "\n",
       "[124507 rows x 67 columns]"
      ]
     },
     "execution_count": 33,
     "metadata": {},
     "output_type": "execute_result"
    }
   ],
   "source": [
    "df"
   ]
  },
  {
   "cell_type": "markdown",
   "metadata": {},
   "source": [
    "We now have 66 attributes consisting of dummy variables and continuous variables"
   ]
  },
  {
   "cell_type": "code",
   "execution_count": 34,
   "metadata": {},
   "outputs": [],
   "source": [
    "features=df.columns.drop('grav')"
   ]
  },
  {
   "cell_type": "markdown",
   "metadata": {},
   "source": [
    "We construct our train/test sets using the train_test_split function, but we make sure that our training set contains the same proportion of both classes to avoid a bias in our model, hence the undersampling"
   ]
  },
  {
   "cell_type": "code",
   "execution_count": 35,
   "metadata": {},
   "outputs": [],
   "source": [
    "from sklearn.model_selection import train_test_split\n",
    "\n",
    "train, test = train_test_split(df, test_size=0.3,random_state=42)\n",
    "\n",
    "#undersampling\n",
    "X_train_1=train.loc[train['grav']==1,features]\n",
    "y_train_1=train.loc[train['grav']==1,'grav']\n",
    "X_train_2=train.loc[train['grav']==0,features].head(n=len(X_train_1))\n",
    "y_train_2=train.loc[train['grav']==0,'grav'].head(n=len(X_train_1))\n",
    "\n",
    "X_train=pd.concat([X_train_1,X_train_2],axis=0)\n",
    "y_train=pd.concat([y_train_1,y_train_2],axis=0)\n",
    "\n",
    "X_test=test[features]\n",
    "y_test=test['grav']"
   ]
  },
  {
   "cell_type": "markdown",
   "metadata": {},
   "source": [
    "We use either a logistic regression or a GradBoost model, we notice that the latter performs better"
   ]
  },
  {
   "cell_type": "code",
   "execution_count": 39,
   "metadata": {},
   "outputs": [
    {
     "data": {
      "text/plain": [
       "GradientBoostingClassifier(ccp_alpha=0.0, criterion='friedman_mse', init=None,\n",
       "                           learning_rate=0.1, loss='deviance', max_depth=3,\n",
       "                           max_features=None, max_leaf_nodes=None,\n",
       "                           min_impurity_decrease=0.0, min_impurity_split=None,\n",
       "                           min_samples_leaf=1, min_samples_split=2,\n",
       "                           min_weight_fraction_leaf=0.0, n_estimators=100,\n",
       "                           n_iter_no_change=None, presort='deprecated',\n",
       "                           random_state=None, subsample=1.0, tol=0.0001,\n",
       "                           validation_fraction=0.1, verbose=0,\n",
       "                           warm_start=False)"
      ]
     },
     "execution_count": 39,
     "metadata": {},
     "output_type": "execute_result"
    }
   ],
   "source": [
    "from sklearn.linear_model import LogisticRegression\n",
    "from sklearn.ensemble import GradientBoostingClassifier\n",
    "\n",
    "model=GradientBoostingClassifier()\n",
    "#model=LogisticRegression(max_iter=300)\n",
    "model.fit(X_train,y_train)"
   ]
  },
  {
   "cell_type": "markdown",
   "metadata": {},
   "source": [
    "For evaluation, we first measure the main scores of the model : accuracy, precision, recall and F-score"
   ]
  },
  {
   "cell_type": "code",
   "execution_count": 40,
   "metadata": {},
   "outputs": [
    {
     "name": "stdout",
     "output_type": "stream",
     "text": [
      "Train accuracy :  0.6971572810866038\n",
      "Test accuracy :  0.7120713195727251\n",
      "(0.6301721366254274, 0.6877343948837291, 0.6348892180149872, None)\n"
     ]
    }
   ],
   "source": [
    "y_pred=model.predict(X_train)\n",
    "print(\"Train accuracy : \",np.mean(y_pred==y_train))\n",
    "\n",
    "y_pred=model.predict(X_test)\n",
    "print(\"Test accuracy : \",np.mean(y_pred==y_test))\n",
    "\n",
    "from sklearn.metrics import precision_recall_fscore_support\n",
    "\n",
    "print(precision_recall_fscore_support(y_test, y_pred, average='macro'))"
   ]
  },
  {
   "cell_type": "markdown",
   "metadata": {},
   "source": [
    "Since the classes are not balanced, another evaluation method is to plot the ROC and precision-recall curves, and calculate the AUC scores for each."
   ]
  },
  {
   "cell_type": "code",
   "execution_count": 42,
   "metadata": {},
   "outputs": [
    {
     "name": "stdout",
     "output_type": "stream",
     "text": [
      "No Skill: ROC AUC=0.500\n",
      "Logistic: ROC AUC=0.749\n"
     ]
    },
    {
     "data": {
      "image/png": "[encoded data removed]",
      "text/plain": [
       "<Figure size 432x288 with 1 Axes>"
      ]
     },
     "metadata": {
      "needs_background": "light"
     },
     "output_type": "display_data"
    }
   ],
   "source": [
    "# roc curve and auc\n",
    "\n",
    "from sklearn.metrics import roc_curve\n",
    "from sklearn.metrics import roc_auc_score\n",
    "\n",
    "ns_probs = [0 for _ in range(len(y_test))]\n",
    "lr_probs = model.predict_proba(X_test)\n",
    "# keep probabilities for the positive outcome only\n",
    "lr_probs = lr_probs[:, 1]\n",
    "# calculate scores\n",
    "ns_auc = roc_auc_score(y_test, ns_probs)\n",
    "lr_auc = roc_auc_score(y_test, lr_probs)\n",
    "# summarize scores\n",
    "print('No Skill: ROC AUC=%.3f' % (ns_auc))\n",
    "print('Logistic: ROC AUC=%.3f' % (lr_auc))\n",
    "# calculate roc curves\n",
    "ns_fpr, ns_tpr, _ = roc_curve(y_test, ns_probs)\n",
    "lr_fpr, lr_tpr, _ = roc_curve(y_test, lr_probs)\n",
    "# plot the roc curve for the model\n",
    "plt.plot(ns_fpr, ns_tpr, linestyle='--', label='No Skill')\n",
    "plt.plot(lr_fpr, lr_tpr, marker='.', label='Logistic')\n",
    "# axis labels\n",
    "plt.xlabel('False Positive Rate')\n",
    "plt.ylabel('True Positive Rate')\n",
    "# show the legend\n",
    "plt.legend()\n",
    "# show the plot\n",
    "plt.show()"
   ]
  },
  {
   "cell_type": "code",
   "execution_count": 44,
   "metadata": {},
   "outputs": [
    {
     "name": "stdout",
     "output_type": "stream",
     "text": [
      "Model: auc=0.444\n"
     ]
    },
    {
     "data": {
      "image/png": "[encoded data removed]",
      "text/plain": [
       "<Figure size 432x288 with 1 Axes>"
      ]
     },
     "metadata": {
      "needs_background": "light"
     },
     "output_type": "display_data"
    }
   ],
   "source": [
    "#precision-recall curve and AUC\n",
    "from sklearn.metrics import precision_recall_fscore_support\n",
    "from sklearn.metrics import precision_recall_curve\n",
    "from sklearn.metrics import f1_score\n",
    "from sklearn.metrics import auc\n",
    "\n",
    "lr_precision, lr_recall, _ = precision_recall_curve(y_test, lr_probs)\n",
    "lr_f1, lr_auc = f1_score(y_test, y_pred), auc(lr_recall, lr_precision)\n",
    "# summarize scores\n",
    "print('Model: auc=%.3f' % (lr_auc))\n",
    "# plot the precision-recall curves\n",
    "no_skill = len(y_test[y_test==1]) / len(y_test)\n",
    "plt.plot([0, 1], [no_skill, no_skill], linestyle='--', label='No Skill')\n",
    "plt.plot(lr_recall, lr_precision, marker='.', label='Model')\n",
    "# axis labels\n",
    "plt.xlabel('Recall')\n",
    "plt.ylabel('Precision')\n",
    "# show the legend\n",
    "plt.legend()\n",
    "# show the plot\n",
    "plt.show()"
   ]
  },
  {
   "cell_type": "markdown",
   "metadata": {},
   "source": [
    "In both figures, we compare the model to a random guess, and it turns out to perform significantly better.\n",
    "\n",
    "We can also look at the most important features :"
   ]
  },
  {
   "cell_type": "code",
   "execution_count": 59,
   "metadata": {},
   "outputs": [
    {
     "data": {
      "image/png": "[encoded data removed]",
      "text/plain": [
       "<Figure size 432x288 with 1 Axes>"
      ]
     },
     "metadata": {
      "needs_background": "light"
     },
     "output_type": "display_data"
    }
   ],
   "source": [
    "feats=pd.Series(model.feature_importances_,features).sort_values(ascending=False).head(20)\n",
    "plt.bar(feats.index,feats.values)\n",
    "plt.xticks(rotation=45)\n",
    "plt.show()"
   ]
  },
  {
   "cell_type": "code",
   "execution_count": 60,
   "metadata": {},
   "outputs": [
    {
     "data": {
      "text/html": [
       "<div>\n",
       "<style scoped>\n",
       "    .dataframe tbody tr th:only-of-type {\n",
       "        vertical-align: middle;\n",
       "    }\n",
       "\n",
       "    .dataframe tbody tr th {\n",
       "        vertical-align: top;\n",
       "    }\n",
       "\n",
       "    .dataframe thead th {\n",
       "        text-align: right;\n",
       "    }\n",
       "</style>\n",
       "<table border=\"1\" class=\"dataframe\">\n",
       "  <thead>\n",
       "    <tr style=\"text-align: right;\">\n",
       "      <th></th>\n",
       "      <th>grav</th>\n",
       "      <th>catr3</th>\n",
       "      <th>agg</th>\n",
       "      <th>secu2</th>\n",
       "      <th>age</th>\n",
       "      <th>circ2</th>\n",
       "      <th>catu3</th>\n",
       "      <th>secu1</th>\n",
       "      <th>nbv</th>\n",
       "      <th>sexe</th>\n",
       "      <th>...</th>\n",
       "      <th>catu1</th>\n",
       "      <th>catr4</th>\n",
       "      <th>circ1</th>\n",
       "      <th>int1</th>\n",
       "      <th>catu2</th>\n",
       "      <th>lum1</th>\n",
       "      <th>lum3</th>\n",
       "      <th>prof2</th>\n",
       "      <th>catr1</th>\n",
       "      <th>int7</th>\n",
       "    </tr>\n",
       "  </thead>\n",
       "  <tbody>\n",
       "    <tr>\n",
       "      <td>grav</td>\n",
       "      <td>1.0</td>\n",
       "      <td>0.192445</td>\n",
       "      <td>-0.15459</td>\n",
       "      <td>0.170843</td>\n",
       "      <td>0.06055</td>\n",
       "      <td>0.145502</td>\n",
       "      <td>0.116092</td>\n",
       "      <td>-0.112247</td>\n",
       "      <td>-0.080143</td>\n",
       "      <td>-0.036653</td>\n",
       "      <td>...</td>\n",
       "      <td>-0.053705</td>\n",
       "      <td>-0.136156</td>\n",
       "      <td>-0.100611</td>\n",
       "      <td>0.062483</td>\n",
       "      <td>-0.009166</td>\n",
       "      <td>-0.034657</td>\n",
       "      <td>0.094468</td>\n",
       "      <td>0.058316</td>\n",
       "      <td>-0.076158</td>\n",
       "      <td>-0.02923</td>\n",
       "    </tr>\n",
       "  </tbody>\n",
       "</table>\n",
       "<p>1 rows × 21 columns</p>\n",
       "</div>"
      ],
      "text/plain": [
       "      grav     catr3      agg     secu2      age     circ2     catu3  \\\n",
       "grav   1.0  0.192445 -0.15459  0.170843  0.06055  0.145502  0.116092   \n",
       "\n",
       "         secu1       nbv      sexe  ...     catu1     catr4     circ1  \\\n",
       "grav -0.112247 -0.080143 -0.036653  ... -0.053705 -0.136156 -0.100611   \n",
       "\n",
       "          int1     catu2      lum1      lum3     prof2     catr1     int7  \n",
       "grav  0.062483 -0.009166 -0.034657  0.094468  0.058316 -0.076158 -0.02923  \n",
       "\n",
       "[1 rows x 21 columns]"
      ]
     },
     "execution_count": 60,
     "metadata": {},
     "output_type": "execute_result"
    }
   ],
   "source": [
    "df[['grav']+list(feats.index)].corr().head(1)"
   ]
  },
  {
   "cell_type": "markdown",
   "metadata": {},
   "source": [
    "### Concluding remarks\n",
    "\n",
    "We notice that the type of road (**catr** variable) plays a great part in the gravity of an accident. \n",
    "The use of a safety gear (**secu**) seems to reduce the risk.\n",
    "Accidents in agglomerations tend to be less serious.\n",
    "Obviously, this work is only a demo of what can be achieved with the given dataset and can still be improved. Other variables that we haven't accounted for can be introduced, and some that weren't necessary can be removed for additional model stability, for example via PCA. Also, model hyperparameters can be chosen more optimaly using a GridSearch."
   ]
  }
 ],
 "metadata": {
  "kernelspec": {
   "display_name": "Python 3",
   "language": "python",
   "name": "python3"
  },
  "language_info": {
   "codemirror_mode": {
    "name": "ipython",
    "version": 3
   },
   "file_extension": ".py",
   "mimetype": "text/x-python",
   "name": "python",
   "nbconvert_exporter": "python",
   "pygments_lexer": "ipython3",
   "version": "3.7.3"
  }
 },
 "nbformat": 4,
 "nbformat_minor": 2
}
